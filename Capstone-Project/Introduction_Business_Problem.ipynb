{
 "cells": [
  {
   "cell_type": "markdown",
   "metadata": {},
   "source": [
    "# Capstone Project - The Battle of Neighborhoods\n",
    "\n",
    "*@author : __Mouad Choukhairi__*\n",
    "\n",
    "## Introduction/Business Problem\n",
    "\n",
    "### 1. Introduction:\n",
    "\n",
    "\n",
    "<img src=\"https://www.tourafagency.com/wp-content/uploads/2019/01/jemaa-el-fna.1479801.jpg\" width=\"700\" height=\"20\" />\n",
    "\n",
    "\n",
    "Marrakech has **928,850** inhabitants according to the 2014 census, spread over an area of **230**  km. The population density reaches *350* inhabitants per hectare in the Medina. It is the third largest city in Morocco after Casablanca and Rabat. The city is divided into two distinct parts: the historic city (ten kilometers of enclosure) and the new city whose main districts are called Guéliz , L'Hivernage (which concentrates many hotel complexes), Douar el Askar, Sidi Youssef Ben Ali , M'hamid , and Daoudiate. The Guélizis now the commercial city center. It was founded by the French during the French protectorate in Morocco.\n",
    "\n",
    "The purpose of this Project is to help tourists to get awareness of the area and location before moving to this city, also in exploring better facilities around the location they want to stay at. It will help people making smart and efficient decision on selecting great location out of numbers of other locations in Marrakech city.\n",
    "\n",
    "\n",
    "This Project aim to create an analysis of features for a tourist traveling to Marrakech to search a best location as a comparative analysis between locations. The features include median hotel price and better restaurant according to ratings, crime rates of that particular area, road connectivity, weather conditions, good management for emergency, water resources both freash and waste water and excrement conveyed in sewers and recreational facilities.\n",
    "\n",
    "\n",
    "\n",
    "### 2. Business Problem\n",
    "\n",
    "The major purpose of this project, is to suggest a better location in marrakech city for the tourist who are shifting there. Social presence in society in terms of like minded people. Connectivity to the airport, bus stand, city center, markets and other daily needs things nearby.\n",
    "\n",
    "Sorted list of hotels in terms of hotel prices in a ascending or descending order\n",
    "Sorted list of restaurants in terms of location, fees, rating and reviews\n",
    "\n",
    "### 3. Location.\n",
    "\n",
    "* *The city is a tourist hotspot, more than **two million** tourists **each year**. It is also the starting point for many excursions for hikers wishing to travel the Atlas or the desert further south.*\n",
    "\n",
    "\n",
    "### 4. Foursquare API:\n",
    "\n",
    "This project will use Four-square API as its prime data gathering source as it has a database of millions of places, especially their places API which provides the ability to perform location search, location sharing and details about a business.\n",
    "\n",
    "### 5. Work Flow:\n",
    "\n",
    "Using credentials of Foursquare API features of near-by places of locations would be mined. Due to http request limitations the number of places per location parameter would reasonably be set to 100 and the radius parameter would be set to 500.\n",
    "\n",
    "### 6. Clustering Approach:\n",
    "\n",
    "To compare the similarities of two cities, we decided to explore locations, segment them, and group them into clusters to find similar locations in a big city like Rabat and Casablanca. To be able to do that, we need to cluster data which is a form of unsupervised machine learning: k-means clustering algorithm"
   ]
  }
 ],
 "metadata": {
  "kernelspec": {
   "display_name": "Python 3",
   "language": "python",
   "name": "python3"
  },
  "language_info": {
   "codemirror_mode": {
    "name": "ipython",
    "version": 3
   },
   "file_extension": ".py",
   "mimetype": "text/x-python",
   "name": "python",
   "nbconvert_exporter": "python",
   "pygments_lexer": "ipython3",
   "version": "3.7.1"
  }
 },
 "nbformat": 4,
 "nbformat_minor": 2
}
